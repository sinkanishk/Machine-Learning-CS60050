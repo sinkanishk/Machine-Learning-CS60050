{
 "cells": [
  {
   "cell_type": "code",
   "execution_count": 146,
   "metadata": {},
   "outputs": [],
   "source": [
    "def main():\n",
    "    \n",
    "    ### This is used for reading the data from the csv file.\n",
    "    file = open('data2_19.csv')\n",
    "    data = [[]]\n",
    "    for line in file:\n",
    "        line = line.strip(\"\\r\\n\")\n",
    "        data.append(line.split(','))\n",
    "    data.remove([])\n",
    "\n",
    "    for i in range(1,len(data)):\n",
    "        data[i][0]=data[i][0][1]\n",
    "        data[i][len(data[i])-1]=data[i][len(data[i])-1][0]\n",
    "\n",
    "    freq=[[],[]]\n",
    "    for i in range(len(data[1])-1):\n",
    "        freq[0].append([0,0,0,0,0])\n",
    "        freq[1].append([0,0,0,0,0])\n",
    "    for i in range(1,len(data)):\n",
    "        for j in range(1,7):\n",
    "            freq[int(data[i][0])][j-1][int(data[i][j])-1]+=1\n",
    "            \n",
    "    class_array=[0,0]\n",
    "    for i in range(1,len(data)):\n",
    "        class_array[int(data[i][0])]+=1;\n",
    "    accuracy(freq,class_array)"
   ]
  },
  {
   "cell_type": "code",
   "execution_count": 149,
   "metadata": {},
   "outputs": [],
   "source": [
    "def accuracy(freq,class_total):\n",
    "    ### This is used for reading the data from the csv file.\n",
    "    file = open('test2_19.csv')\n",
    "    data = [[]]\n",
    "    for line in file:\n",
    "        line = line.strip(\"\\r\\n\")\n",
    "        data.append(line.split(','))\n",
    "    data.remove([])\n",
    "    \n",
    "    for i in range(1,len(data)):\n",
    "        data[i][0]=data[i][0][1]\n",
    "        data[i][len(data[i])-1]=data[i][len(data[i])-1][0]\n",
    "        \n",
    "    correct_predictions=0\n",
    "    for i in range(1,len(data)):\n",
    "        neg_prob=(1.0*class_total[0])/(class_total[0]+class_total[1])\n",
    "        pos_prob=(1.0*class_total[1])/(class_total[0]+class_total[1])\n",
    "        for j in range(1,7):\n",
    "            neg_prob*=((freq[0][j-1][int(data[i][j])-1]+1)*1.0)/(class_total[0]+5)\n",
    "            pos_prob*=((freq[1][j-1][int(data[i][j])-1]+1)*1.0)/(class_total[1]+5)\n",
    "        #print(str(pos_prob)+\" \"+str(neg_prob)+\" \"+data[i][0])\n",
    "        if pos_prob>=neg_prob and data[i][0]=='1':\n",
    "            correct_predictions+=1\n",
    "        if neg_prob>=pos_prob and data[i][0]=='0':\n",
    "            correct_predictions+=1\n",
    "            \n",
    "    percentage=(correct_predictions*1.0/(len(data)-1)*100)\n",
    "    print(\"Percentage accuracy is \"+str(percentage))\n",
    "    print(\"Total number of correct predictions are \"+str(correct_predictions)+\" out of \"+str(len(data)-1)+\" cases\")\n",
    "        \n",
    "        \n",
    "    \n",
    "    "
   ]
  },
  {
   "cell_type": "code",
   "execution_count": 150,
   "metadata": {},
   "outputs": [
    {
     "name": "stdout",
     "output_type": "stream",
     "text": [
      "Percentage accuracy is 35.7142857143\n",
      "Total number of correct predictions are 5 out of 14 cases\n"
     ]
    }
   ],
   "source": [
    "main()"
   ]
  }
 ],
 "metadata": {
  "kernelspec": {
   "display_name": "Python 2",
   "language": "python",
   "name": "python2"
  },
  "language_info": {
   "codemirror_mode": {
    "name": "ipython",
    "version": 2
   },
   "file_extension": ".py",
   "mimetype": "text/x-python",
   "name": "python",
   "nbconvert_exporter": "python",
   "pygments_lexer": "ipython2",
   "version": "2.7.12"
  }
 },
 "nbformat": 4,
 "nbformat_minor": 2
}
